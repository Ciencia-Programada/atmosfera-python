{
 "cells": [
  {
   "cell_type": "markdown",
   "metadata": {},
   "source": [
    "# Estudando nossa atmosfera com Python\n",
    "\n",
    "Incolor, de constituintes invisíveis e inodoro (espera-se!). Por vezes nos esquecemos que estamos rodeados de gases que constituem nossa atmosfera. Nesse artigo, vamos ver como podemos facilmente, com a linguagem Python, conseguir uma listagem dos principais constituintes do ar com web scrapping. E, também, fazer algumas contas como, por exemplo, de densidade e de massa molar média e, claro, apresentar tudo em gráficos espetaculares.\n",
    "\n",
    "Vamos fazer uma pequena lista de ferramentas que utilizaremos aqui:\n",
    "\n",
    "- Pint\n",
    "- Chempy\n",
    "- SciPy\n",
    "- Pandas\n",
    "- Web scraping com Pandas\n",
    "- Expressões regulares\n",
    "- Matplotlib\n",
    "    - estilos prontos\n",
    "    - escala de cores\n",
    "    - scatter plot\n",
    "    - personalização avançada de gráficos\n",
    "- Python padrão\n",
    "    - map\n",
    "    - funções anônimas (lambda)\n",
    "    - list comprehensions\n",
    "\n",
    "Muita coisa útil, então vamos lá.\n",
    "\n",
    "Em física, química ou matérias ligadas ao estudo das engenharias é comum aparecerem situações onde precisamos fazer contas que dependem de características do ar. Pode ser, por exemplo, uma reação química de combustão acontecendo a ar aberto onde precisamos considerar uma determinada porcentagem de oxigênio no ar ou a situação de um compressor onde precisamos saber qual a massa de ar que ele comporta numa determinada condição. Independente da situação, usualmente precisamos da densidade do ar ou da massa molar média do mesmo. Na realidade, tais quantidades estão intimamente relacionadas, como veremos.\n"
   ]
  },
  {
   "cell_type": "markdown",
   "metadata": {},
   "source": [
    "## Setup inicial"
   ]
  },
  {
   "cell_type": "markdown",
   "metadata": {},
   "source": [
    "Para começar, vamos importar algumas bibliotecas que usaremos. No decorrer do artigo será detalhado o papel de cada uma. A `pint` já apareceu em outros artigos aqui do site, você pode [ler mais sobre ela aqui](https://cienciaprogramada.com.br/2020/09/python-unidades-cerveja-pint/)."
   ]
  },
  {
   "cell_type": "code",
   "execution_count": 1,
   "metadata": {
    "execution": {
     "iopub.execute_input": "2020-12-14T20:14:35.854690Z",
     "iopub.status.busy": "2020-12-14T20:14:35.854518Z",
     "iopub.status.idle": "2020-12-14T20:14:36.471898Z",
     "shell.execute_reply": "2020-12-14T20:14:36.471391Z",
     "shell.execute_reply.started": "2020-12-14T20:14:35.854656Z"
    }
   },
   "outputs": [],
   "source": [
    "from scipy.constants import gas_constant\n",
    "import matplotlib.pyplot as plt\n",
    "import pint\n",
    "import chempy\n",
    "import pandas as pd"
   ]
  },
  {
   "cell_type": "markdown",
   "metadata": {},
   "source": [
    "Vamos criar um registro de unidades e um criador de quantidades do `pint` e, também, configurar o pacote para trabalhar com gráficos criados via `matplotlib`."
   ]
  },
  {
   "cell_type": "code",
   "execution_count": 2,
   "metadata": {
    "execution": {
     "iopub.execute_input": "2020-12-14T20:14:36.472893Z",
     "iopub.status.busy": "2020-12-14T20:14:36.472657Z",
     "iopub.status.idle": "2020-12-14T20:14:36.613281Z",
     "shell.execute_reply": "2020-12-14T20:14:36.612784Z",
     "shell.execute_reply.started": "2020-12-14T20:14:36.472801Z"
    }
   },
   "outputs": [],
   "source": [
    "ureg = pint.UnitRegistry()\n",
    "ureg.setup_matplotlib(True)\n",
    "Q_ = ureg.Quantity"
   ]
  },
  {
   "cell_type": "markdown",
   "metadata": {},
   "source": [
    "## Embasamento teórico e obtendo dados químicos"
   ]
  },
  {
   "cell_type": "markdown",
   "metadata": {},
   "source": [
    "Agora vamos conhecer um pouco o pacote `chempy`, cujo [site do projeto é este](https://github.com/bjodah/chempy). Com o `chempy` podemos facilmente obter informações de um composto a partir de sua fórmula. Vamos começar utilizando o gás hidrogênio como exemplo:"
   ]
  },
  {
   "cell_type": "code",
   "execution_count": 3,
   "metadata": {
    "execution": {
     "iopub.execute_input": "2020-12-14T20:14:36.614501Z",
     "iopub.status.busy": "2020-12-14T20:14:36.614369Z",
     "iopub.status.idle": "2020-12-14T20:14:36.837972Z",
     "shell.execute_reply": "2020-12-14T20:14:36.837477Z",
     "shell.execute_reply.started": "2020-12-14T20:14:36.614476Z"
    }
   },
   "outputs": [],
   "source": [
    "gas_hidrogenio = chempy.Substance.from_formula('H2')"
   ]
  },
  {
   "cell_type": "markdown",
   "metadata": {},
   "source": [
    "O código acima, bem autoexplicativo, instancia uma substância `Substance` a partir da fórmula na forma de string."
   ]
  },
  {
   "cell_type": "markdown",
   "metadata": {},
   "source": [
    "Vamos olhar os atributos e métodos disponíveis publicamente no objeto `gas_hidrogenio` que criamos:"
   ]
  },
  {
   "cell_type": "code",
   "execution_count": 4,
   "metadata": {
    "execution": {
     "iopub.execute_input": "2020-12-14T20:14:36.838908Z",
     "iopub.status.busy": "2020-12-14T20:14:36.838726Z",
     "iopub.status.idle": "2020-12-14T20:14:37.218117Z",
     "shell.execute_reply": "2020-12-14T20:14:37.215682Z",
     "shell.execute_reply.started": "2020-12-14T20:14:36.838833Z"
    }
   },
   "outputs": [
    {
     "data": {
      "text/plain": [
       "['attrs',\n",
       " 'charge',\n",
       " 'composition',\n",
       " 'composition_keys',\n",
       " 'data',\n",
       " 'from_formula',\n",
       " 'html_name',\n",
       " 'latex_name',\n",
       " 'mass',\n",
       " 'molar_mass',\n",
       " 'name',\n",
       " 'unicode_name']"
      ]
     },
     "execution_count": 4,
     "metadata": {},
     "output_type": "execute_result"
    }
   ],
   "source": [
    "[x for x in dir(gas_hidrogenio) if not x.startswith('_')]"
   ]
  },
  {
   "cell_type": "markdown",
   "metadata": {},
   "source": [
    "É interessante termos a opção de exportar a fórmula em formatos como LaTeX e unicode:"
   ]
  },
  {
   "cell_type": "code",
   "execution_count": 5,
   "metadata": {
    "execution": {
     "iopub.execute_input": "2020-12-14T20:14:37.222524Z",
     "iopub.status.busy": "2020-12-14T20:14:37.221623Z",
     "iopub.status.idle": "2020-12-14T20:14:37.752515Z",
     "shell.execute_reply": "2020-12-14T20:14:37.752081Z",
     "shell.execute_reply.started": "2020-12-14T20:14:37.222360Z"
    }
   },
   "outputs": [
    {
     "data": {
      "text/plain": [
       "'H_{2}'"
      ]
     },
     "execution_count": 5,
     "metadata": {},
     "output_type": "execute_result"
    }
   ],
   "source": [
    "gas_hidrogenio.latex_name"
   ]
  },
  {
   "cell_type": "code",
   "execution_count": 6,
   "metadata": {
    "execution": {
     "iopub.execute_input": "2020-12-14T20:14:37.753419Z",
     "iopub.status.busy": "2020-12-14T20:14:37.753216Z",
     "iopub.status.idle": "2020-12-14T20:14:38.158813Z",
     "shell.execute_reply": "2020-12-14T20:14:38.157013Z",
     "shell.execute_reply.started": "2020-12-14T20:14:37.753337Z"
    }
   },
   "outputs": [
    {
     "data": {
      "text/plain": [
       "'H₂'"
      ]
     },
     "execution_count": 6,
     "metadata": {},
     "output_type": "execute_result"
    }
   ],
   "source": [
    "gas_hidrogenio.unicode_name"
   ]
  },
  {
   "cell_type": "markdown",
   "metadata": {},
   "source": [
    "Mas, para nossa finalidade aqui, o importante é termos o valor de massa molar. Podemos acessar de duas formas, através do atributo `mass` e do método `molar_mass`:"
   ]
  },
  {
   "cell_type": "code",
   "execution_count": 7,
   "metadata": {
    "execution": {
     "iopub.execute_input": "2020-12-14T20:14:38.161921Z",
     "iopub.status.busy": "2020-12-14T20:14:38.161253Z",
     "iopub.status.idle": "2020-12-14T20:14:38.781102Z",
     "shell.execute_reply": "2020-12-14T20:14:38.779336Z",
     "shell.execute_reply.started": "2020-12-14T20:14:38.161736Z"
    }
   },
   "outputs": [
    {
     "data": {
      "text/plain": [
       "2.016"
      ]
     },
     "execution_count": 7,
     "metadata": {},
     "output_type": "execute_result"
    }
   ],
   "source": [
    "gas_hidrogenio.mass"
   ]
  },
  {
   "cell_type": "code",
   "execution_count": 8,
   "metadata": {
    "execution": {
     "iopub.execute_input": "2020-12-14T20:14:38.787072Z",
     "iopub.status.busy": "2020-12-14T20:14:38.786464Z",
     "iopub.status.idle": "2020-12-14T20:14:39.412732Z",
     "shell.execute_reply": "2020-12-14T20:14:39.410384Z",
     "shell.execute_reply.started": "2020-12-14T20:14:38.786962Z"
    }
   },
   "outputs": [
    {
     "data": {
      "text/plain": [
       "array(2.016) * g/mol"
      ]
     },
     "execution_count": 8,
     "metadata": {},
     "output_type": "execute_result"
    }
   ],
   "source": [
    "gas_hidrogenio.molar_mass()"
   ]
  },
  {
   "cell_type": "markdown",
   "metadata": {},
   "source": [
    "Como podemos perceber, o `mass` retorna um *float* adimensional, enquanto que `molar_mass` retorna com unidades. Podemos separar a magnitude da unidade caso desejado:"
   ]
  },
  {
   "cell_type": "code",
   "execution_count": 9,
   "metadata": {
    "execution": {
     "iopub.execute_input": "2020-12-14T20:14:39.418126Z",
     "iopub.status.busy": "2020-12-14T20:14:39.417491Z",
     "iopub.status.idle": "2020-12-14T20:14:39.670007Z",
     "shell.execute_reply": "2020-12-14T20:14:39.667549Z",
     "shell.execute_reply.started": "2020-12-14T20:14:39.417957Z"
    }
   },
   "outputs": [
    {
     "data": {
      "text/plain": [
       "array(2.016)"
      ]
     },
     "execution_count": 9,
     "metadata": {},
     "output_type": "execute_result"
    }
   ],
   "source": [
    "gas_hidrogenio.molar_mass().magnitude"
   ]
  },
  {
   "cell_type": "code",
   "execution_count": 10,
   "metadata": {
    "execution": {
     "iopub.execute_input": "2020-12-14T20:14:39.672114Z",
     "iopub.status.busy": "2020-12-14T20:14:39.671742Z",
     "iopub.status.idle": "2020-12-14T20:14:39.944522Z",
     "shell.execute_reply": "2020-12-14T20:14:39.941957Z",
     "shell.execute_reply.started": "2020-12-14T20:14:39.672037Z"
    }
   },
   "outputs": [
    {
     "data": {
      "text/plain": [
       "array(1.) * g/mol"
      ]
     },
     "execution_count": 10,
     "metadata": {},
     "output_type": "execute_result"
    }
   ],
   "source": [
    "gas_hidrogenio.molar_mass().units"
   ]
  },
  {
   "cell_type": "markdown",
   "metadata": {},
   "source": [
    "Trabalhar com unidades é sempre desejável. No entanto, o `chempy` não utiliza o `pint` para gerenciar unidades e, sim, o [projeto quantities](https://github.com/python-quantities/python-quantities) que não é tão flexível quanto o `pint` e não integra muito bem com outros pacotes. Assim, neste artigo vamos trabalhar com o atributo `mass` e associar a ele uma unidade `pint`."
   ]
  },
  {
   "cell_type": "markdown",
   "metadata": {},
   "source": [
    "Quando trabalhamos com um gás, precisamos decidir qual modelo que será utilizado para descrever esse gás. A escolha do modelo depende do contexto. Se for um contexto onde uma grande exatidão é necessária ou próximo de condições pouco usuais (altíssima pressão, por exemplo), há [diversos modelos que podem ser utilizados](https://en.wikipedia.org/wiki/Real_gas), sendo o de [Van der Walls](https://en.wikipedia.org/wiki/Van_der_Waals_equation) provavelmente o mais conhecido. No nosso caso, o modelo simples de [gás ideal](https://en.wikipedia.org/wiki/Ideal_gas_law), que é ensinado no ensino médio em física e/ou química, é suficiente."
   ]
  },
  {
   "cell_type": "markdown",
   "metadata": {},
   "source": [
    "A equação dos gases ideais é:\n",
    "\n",
    "\n",
    "$$\n",
    "PV = nRT\n",
    "$$\n",
    "\n",
    "onde *P*, *V* e *T* são pressão, volume e temperatura; *n* é a quantidade de matéria; e *R* é a chamada constante dos gases ideais. Como quantidade de matéria de uma determinada substância é a massa da substância *m* dividida por sua massa molar *M*, podemos reescrever a equação como:\n",
    "\n",
    "$$\n",
    "PV = \\frac{m}{M} RT\n",
    "$$\n",
    "\n",
    "Lembrando que densidade de um dado material é sua massa dividida por seu volume, podemos rearranjar a equação:\n",
    "\n",
    "$$\n",
    "\\frac{m}{V} = \\frac{PM}{RT} \\therefore d = \\frac{PM}{RT}\n",
    "$$\n",
    "\n",
    "Assim, vemos que há uma ligação entre a massa molar da substância com sua densidade."
   ]
  },
  {
   "cell_type": "markdown",
   "metadata": {},
   "source": [
    "A biblioteca `SciPy` fornece um grande conjunto de constantes. No início fizemos a importação da constante dos gases com a linha\n",
    "\n",
    "```python\n",
    "from scipy.constants import gas_constant\n",
    "```\n",
    "\n",
    "Vamos verificar o valor:"
   ]
  },
  {
   "cell_type": "code",
   "execution_count": 11,
   "metadata": {
    "execution": {
     "iopub.execute_input": "2020-12-14T20:14:39.948067Z",
     "iopub.status.busy": "2020-12-14T20:14:39.947210Z",
     "iopub.status.idle": "2020-12-14T20:14:40.357321Z",
     "shell.execute_reply": "2020-12-14T20:14:40.354646Z",
     "shell.execute_reply.started": "2020-12-14T20:14:39.947706Z"
    }
   },
   "outputs": [
    {
     "data": {
      "text/plain": [
       "8.314462618"
      ]
     },
     "execution_count": 11,
     "metadata": {},
     "output_type": "execute_result"
    }
   ],
   "source": [
    "gas_constant"
   ]
  },
  {
   "cell_type": "markdown",
   "metadata": {},
   "source": [
    "Conforme a [documentação da biblioteca](https://docs.scipy.org/doc/scipy/reference/constants.html), o valor da constante se encontra no Sistema Internacional de unidades (SI). Podemos associar a unidade ao valor com o criador de quantidades do `pint`, que instanciamos no início do artigo:"
   ]
  },
  {
   "cell_type": "code",
   "execution_count": 12,
   "metadata": {
    "execution": {
     "iopub.execute_input": "2020-12-14T20:14:40.360637Z",
     "iopub.status.busy": "2020-12-14T20:14:40.360035Z",
     "iopub.status.idle": "2020-12-14T20:14:40.851415Z",
     "shell.execute_reply": "2020-12-14T20:14:40.849673Z",
     "shell.execute_reply.started": "2020-12-14T20:14:40.360527Z"
    }
   },
   "outputs": [
    {
     "data": {
      "text/html": [
       "8.314462618 joule/(kelvin mole)"
      ],
      "text/latex": [
       "$8.314462618\\ \\frac{\\mathrm{joule}}{\\left(\\mathrm{kelvin} \\cdot \\mathrm{mole}\\right)}$"
      ],
      "text/plain": [
       "8.314462618 <Unit('joule / kelvin / mole')>"
      ]
     },
     "execution_count": 12,
     "metadata": {},
     "output_type": "execute_result"
    }
   ],
   "source": [
    "Q_(gas_constant, 'J/(mol K)')"
   ]
  },
  {
   "cell_type": "markdown",
   "metadata": {},
   "source": [
    "Obviamente que você não precisaria importar o SciPy apenas para ter o valor dessa constante, poderia simplesmente colocar o valor numa variável no código e associar a unidade. Mas fiz isso aqui no artigo por dois motivos. O primeiro é informativo, mostrar que o [SciPy](https://scipy.org/), uma das bibliotecas científicas mais sensacionais, possui esse acervo de constantes. O segundo é mostrar a quantidade de significativos do valor que a biblioteca apresenta. Sobre isso vou escrever um pouco mais.\n",
    "\n",
    "É uma (má) prática corriqueira em nosso sistema de ensino arredondar valores sem uma discussão mais detalhada das consequências disso. Assim, grandes erros acabam surgindo nas contas fruto dos arredondamentos feitos. Você que está lendo esse artigo até aqui certamente tem interesse na área científica então coloque uma coisa na cabeça: **o que tem que limitar a precisão de seus cálculos é a precisão de suas medições**. Toda medida tem uma incerteza associada. Mas essas constantes comuns em ciência, como a dos gases ideais ou a velocidade da luz, costumam passar por diversos métodos de determinação com elevada precisão, existindo inclusive o *Committee on Data of the International Science Council* (CODATA) que periodicamente publica [valores atualizados das principais constantes físicas](https://codata.org/initiatives/strategic-programme/fundamental-physical-constants/) das quais outras constantes podem ser derivadas. \n",
    "\n",
    "Caso tenha clicado no link, perceba a quantidade de algarismos significativos das constantes. É altamente provável que não será alguma dessas constantes que irá limitar a precisão de seus cálculos. Não adianta nada você, por exemplo, se esforçar para ter um valor de pressão que possa ser expresso com 4 significativos como, por exemplo, `1.200 Pa` mas arredondar a magnitude da constante dos gases para `8.31`. **Você jogou fora todo seu esforço experimental**. Utilize as constantes físicas com o máximo de significativos disponíveis. Cada arredondamento mal feito faz você perder um ano de vida (exagero para você lembrar da mensagem). \n",
    "\n",
    "Ah, e você pode estar achando estranho o valor apresentado para a constante dos gases. Talvez tenha pensado \"*ué, não era 0,082?*\" Sim, em outro sistema de unidades. O valor do SciPy está conforme o Sistema Internacional de Unidades (SI). No ensino médio e até mesmo em situações práticas usualmente utilizamos o valor mais adequado para trabalhar com as unidades atmosfera e litro. Veja a conversão:"
   ]
  },
  {
   "cell_type": "code",
   "execution_count": 13,
   "metadata": {
    "execution": {
     "iopub.execute_input": "2020-12-14T20:14:40.854879Z",
     "iopub.status.busy": "2020-12-14T20:14:40.854258Z",
     "iopub.status.idle": "2020-12-14T20:14:41.123063Z",
     "shell.execute_reply": "2020-12-14T20:14:41.121082Z",
     "shell.execute_reply.started": "2020-12-14T20:14:40.854768Z"
    }
   },
   "outputs": [
    {
     "data": {
      "text/html": [
       "0.08205736607944732 liter standard_atmosphere/(kelvin mole)"
      ],
      "text/latex": [
       "$0.08205736607944732\\ \\frac{\\mathrm{liter} \\cdot \\mathrm{standard\\_atmosphere}}{\\left(\\mathrm{kelvin} \\cdot \\mathrm{mole}\\right)}$"
      ],
      "text/plain": [
       "0.08205736607944732 <Unit('liter * standard_atmosphere / kelvin / mole')>"
      ]
     },
     "execution_count": 13,
     "metadata": {},
     "output_type": "execute_result"
    }
   ],
   "source": [
    "Q_(gas_constant, 'J/(mol K)').to('atm l / (mol K)')"
   ]
  },
  {
   "cell_type": "markdown",
   "metadata": {},
   "source": [
    "Novamente, atenção para os significativos do valor."
   ]
  },
  {
   "cell_type": "markdown",
   "metadata": {},
   "source": [
    "## A função que irá sustentar todo o trabalho"
   ]
  },
  {
   "cell_type": "markdown",
   "metadata": {},
   "source": [
    "Bom, vamos voltar ao nosso gás ideal. Podemos criar uma função que calcule a densidade de um gás. De acordo com a equação que obtivemos acima, precisamos apenas da pressão, da massa molar e da temperatura. Mas, com a ajuda do `chempy` podemos obter a massa molar a partir da fórmula do gás. Logo, nossa função pode receber uma fórmula, a pressão e a temperatura. Podemos considerar valores padrão para a pressão e a temperatura, para condições ambiente, por exemplo:"
   ]
  },
  {
   "cell_type": "code",
   "execution_count": 14,
   "metadata": {
    "execution": {
     "iopub.execute_input": "2020-12-14T20:14:41.127863Z",
     "iopub.status.busy": "2020-12-14T20:14:41.126900Z",
     "iopub.status.idle": "2020-12-14T20:14:41.415002Z",
     "shell.execute_reply": "2020-12-14T20:14:41.412955Z",
     "shell.execute_reply.started": "2020-12-14T20:14:41.127681Z"
    }
   },
   "outputs": [],
   "source": [
    "def densidade_gas(formula, pressao=Q_('1 atm'), temperatura=Q_(25, 'degC')):\n",
    "    \"\"\"Calcula a densidade de um gás ideal\"\"\"\n",
    "    \n",
    "    R = Q_(gas_constant, 'J/(mol K)')\n",
    "    M = chempy.Substance.from_formula(formula).mass\n",
    "    M = Q_(M, 'g/mol')\n",
    "    \n",
    "    return (pressao * M/(R * temperatura.to('kelvin'))).to_base_units()"
   ]
  },
  {
   "cell_type": "markdown",
   "metadata": {},
   "source": [
    "Os detalhes de uso do pacote `pint` podem ser [lidos aqui](https://cienciaprogramada.com.br/2020/09/python-unidades-cerveja-pint/)."
   ]
  },
  {
   "cell_type": "markdown",
   "metadata": {},
   "source": [
    "Agora podemos passar uma fórmula e teremos a densidade para as condições de 1 atm e 25 °C."
   ]
  },
  {
   "cell_type": "code",
   "execution_count": 15,
   "metadata": {
    "execution": {
     "iopub.execute_input": "2020-12-14T20:14:41.418003Z",
     "iopub.status.busy": "2020-12-14T20:14:41.417434Z",
     "iopub.status.idle": "2020-12-14T20:14:41.824999Z",
     "shell.execute_reply": "2020-12-14T20:14:41.824391Z",
     "shell.execute_reply.started": "2020-12-14T20:14:41.417895Z"
    }
   },
   "outputs": [
    {
     "data": {
      "text/html": [
       "1.7988258254712144 kilogram/meter<sup>3</sup>"
      ],
      "text/latex": [
       "$1.7988258254712144\\ \\frac{\\mathrm{kilogram}}{\\mathrm{meter}^{3}}$"
      ],
      "text/plain": [
       "1.7988258254712144 <Unit('kilogram / meter ** 3')>"
      ]
     },
     "execution_count": 15,
     "metadata": {},
     "output_type": "execute_result"
    }
   ],
   "source": [
    "densidade_gas('CO2')"
   ]
  },
  {
   "cell_type": "markdown",
   "metadata": {},
   "source": [
    "Se quisermos outras condições, basta passar os parâmetros `pressao` e `temperatura`. Inclusive em qualquer unidade, já que o `pint` cuida da conversão internamente."
   ]
  },
  {
   "cell_type": "code",
   "execution_count": 16,
   "metadata": {
    "execution": {
     "iopub.execute_input": "2020-12-14T20:14:41.826046Z",
     "iopub.status.busy": "2020-12-14T20:14:41.825824Z",
     "iopub.status.idle": "2020-12-14T20:14:42.080715Z",
     "shell.execute_reply": "2020-12-14T20:14:42.078707Z",
     "shell.execute_reply.started": "2020-12-14T20:14:41.826003Z"
    }
   },
   "outputs": [
    {
     "data": {
      "text/html": [
       "0.1937787323145848 kilogram/meter<sup>3</sup>"
      ],
      "text/latex": [
       "$0.1937787323145848\\ \\frac{\\mathrm{kilogram}}{\\mathrm{meter}^{3}}$"
      ],
      "text/plain": [
       "0.1937787323145848 <Unit('kilogram / meter ** 3')>"
      ]
     },
     "execution_count": 16,
     "metadata": {},
     "output_type": "execute_result"
    }
   ],
   "source": [
    "densidade_gas('CO2', pressao=Q_('1 * 10^4 Pa'), temperatura=Q_(0, 'degC'))"
   ]
  },
  {
   "cell_type": "markdown",
   "metadata": {},
   "source": [
    "Ótimo, já temos como calcular a densidade de um gás. Mas e no caso da nossa atmosfera, que é um conjunto de gases?"
   ]
  },
  {
   "cell_type": "markdown",
   "metadata": {},
   "source": [
    "## Web scraping com Pandas"
   ]
  },
  {
   "cell_type": "markdown",
   "metadata": {},
   "source": [
    "Primeiro precisamos de uma fonte que nos dê os gases e suas quantidades relativas. [Esse link da Wikipedia](https://en.wikipedia.org/wiki/Atmosphere_of_Earth) possui uma tabela com essas informações. Vamos associar esse link a uma variável:"
   ]
  },
  {
   "cell_type": "code",
   "execution_count": 17,
   "metadata": {
    "execution": {
     "iopub.execute_input": "2020-12-14T20:14:42.084993Z",
     "iopub.status.busy": "2020-12-14T20:14:42.083940Z",
     "iopub.status.idle": "2020-12-14T20:14:42.356772Z",
     "shell.execute_reply": "2020-12-14T20:14:42.354925Z",
     "shell.execute_reply.started": "2020-12-14T20:14:42.084563Z"
    }
   },
   "outputs": [],
   "source": [
    "url = 'https://en.wikipedia.org/wiki/Atmosphere_of_Earth'"
   ]
  },
  {
   "cell_type": "markdown",
   "metadata": {},
   "source": [
    "Agora vamos entender uma das importações que fizemos no início do artigo, a da biblioteca [Pandas](https://pandas.pydata.org/). Esta biblioteca é muito utilizada para análise e manipulação de dados e é excelente para dados que podem ser organizados em tabelas. Dentro do contexto do Pandas, um conjunto de dados tabelados é chamado de **DataFrame**.\n",
    "\n",
    "O método `read_html` oferece uma lista de tabelas de uma URL na forma de objeto DataFrame:"
   ]
  },
  {
   "cell_type": "code",
   "execution_count": 18,
   "metadata": {
    "execution": {
     "iopub.execute_input": "2020-12-14T20:14:42.360280Z",
     "iopub.status.busy": "2020-12-14T20:14:42.359283Z",
     "iopub.status.idle": "2020-12-14T20:14:43.691265Z",
     "shell.execute_reply": "2020-12-14T20:14:43.690771Z",
     "shell.execute_reply.started": "2020-12-14T20:14:42.359838Z"
    }
   },
   "outputs": [
    {
     "data": {
      "text/plain": [
       "13"
      ]
     },
     "execution_count": 18,
     "metadata": {},
     "output_type": "execute_result"
    }
   ],
   "source": [
    "len(pd.read_html(url))"
   ]
  },
  {
   "cell_type": "markdown",
   "metadata": {
    "execution": {
     "iopub.execute_input": "2020-12-11T23:17:05.888296Z",
     "iopub.status.busy": "2020-12-11T23:17:05.888130Z",
     "iopub.status.idle": "2020-12-11T23:17:06.875249Z",
     "shell.execute_reply": "2020-12-11T23:17:06.874756Z",
     "shell.execute_reply.started": "2020-12-11T23:17:05.888269Z"
    }
   },
   "source": [
    "Observe que foram encontrados 13 objetos que podem ser lidados como DataFrame no link. Você pode passar por cada um para ver qual é o de seu interesse. No nosso caso, é logo a primeira posição da lista, lembrando que estruturas de armazenamento em Python, como listas, começam em índice zero. Assim:"
   ]
  },
  {
   "cell_type": "code",
   "execution_count": 19,
   "metadata": {
    "execution": {
     "iopub.execute_input": "2020-12-14T20:14:43.692126Z",
     "iopub.status.busy": "2020-12-14T20:14:43.691929Z",
     "iopub.status.idle": "2020-12-14T20:14:44.726715Z",
     "shell.execute_reply": "2020-12-14T20:14:44.726288Z",
     "shell.execute_reply.started": "2020-12-14T20:14:43.692053Z"
    }
   },
   "outputs": [
    {
     "data": {
      "text/html": [
       "<div>\n",
       "<style scoped>\n",
       "    .dataframe tbody tr th:only-of-type {\n",
       "        vertical-align: middle;\n",
       "    }\n",
       "\n",
       "    .dataframe tbody tr th {\n",
       "        vertical-align: top;\n",
       "    }\n",
       "\n",
       "    .dataframe thead tr th {\n",
       "        text-align: left;\n",
       "    }\n",
       "</style>\n",
       "<table border=\"1\" class=\"dataframe\">\n",
       "  <thead>\n",
       "    <tr>\n",
       "      <th></th>\n",
       "      <th colspan=\"2\" halign=\"left\">Gas</th>\n",
       "      <th colspan=\"2\" halign=\"left\">Volume(A)</th>\n",
       "    </tr>\n",
       "    <tr>\n",
       "      <th></th>\n",
       "      <th>Name</th>\n",
       "      <th>Formula</th>\n",
       "      <th>in ppmv(B)</th>\n",
       "      <th>in %</th>\n",
       "    </tr>\n",
       "  </thead>\n",
       "  <tbody>\n",
       "    <tr>\n",
       "      <th>0</th>\n",
       "      <td>Nitrogen</td>\n",
       "      <td>N2</td>\n",
       "      <td>780840</td>\n",
       "      <td>78.084</td>\n",
       "    </tr>\n",
       "    <tr>\n",
       "      <th>1</th>\n",
       "      <td>Oxygen</td>\n",
       "      <td>O2</td>\n",
       "      <td>209460</td>\n",
       "      <td>20.946</td>\n",
       "    </tr>\n",
       "    <tr>\n",
       "      <th>2</th>\n",
       "      <td>Argon</td>\n",
       "      <td>Ar</td>\n",
       "      <td>9340</td>\n",
       "      <td>0.9340</td>\n",
       "    </tr>\n",
       "    <tr>\n",
       "      <th>3</th>\n",
       "      <td>Carbon dioxide(April, 2020)(C)[13]</td>\n",
       "      <td>CO2</td>\n",
       "      <td>413.61</td>\n",
       "      <td>0.041361</td>\n",
       "    </tr>\n",
       "    <tr>\n",
       "      <th>4</th>\n",
       "      <td>Neon</td>\n",
       "      <td>Ne</td>\n",
       "      <td>18.18</td>\n",
       "      <td>0.001818</td>\n",
       "    </tr>\n",
       "    <tr>\n",
       "      <th>5</th>\n",
       "      <td>Helium</td>\n",
       "      <td>He</td>\n",
       "      <td>5.24</td>\n",
       "      <td>0.000524</td>\n",
       "    </tr>\n",
       "    <tr>\n",
       "      <th>6</th>\n",
       "      <td>Methane</td>\n",
       "      <td>CH4</td>\n",
       "      <td>1.87</td>\n",
       "      <td>0.000187</td>\n",
       "    </tr>\n",
       "    <tr>\n",
       "      <th>7</th>\n",
       "      <td>Krypton</td>\n",
       "      <td>Kr</td>\n",
       "      <td>1.14</td>\n",
       "      <td>0.000114</td>\n",
       "    </tr>\n",
       "    <tr>\n",
       "      <th>8</th>\n",
       "      <td>Not included in above dry atmosphere:</td>\n",
       "      <td>Not included in above dry atmosphere:</td>\n",
       "      <td>Not included in above dry atmosphere:</td>\n",
       "      <td>Not included in above dry atmosphere:</td>\n",
       "    </tr>\n",
       "    <tr>\n",
       "      <th>9</th>\n",
       "      <td>Water vapor(D)</td>\n",
       "      <td>H2O</td>\n",
       "      <td>0–30,000(D)</td>\n",
       "      <td>0–3%(E)</td>\n",
       "    </tr>\n",
       "    <tr>\n",
       "      <th>10</th>\n",
       "      <td>notes: (A) volume fraction is equal to mole fr...</td>\n",
       "      <td>notes: (A) volume fraction is equal to mole fr...</td>\n",
       "      <td>notes: (A) volume fraction is equal to mole fr...</td>\n",
       "      <td>notes: (A) volume fraction is equal to mole fr...</td>\n",
       "    </tr>\n",
       "  </tbody>\n",
       "</table>\n",
       "</div>"
      ],
      "text/plain": [
       "                                                  Gas  \\\n",
       "                                                 Name   \n",
       "0                                            Nitrogen   \n",
       "1                                              Oxygen   \n",
       "2                                               Argon   \n",
       "3                  Carbon dioxide(April, 2020)(C)[13]   \n",
       "4                                                Neon   \n",
       "5                                              Helium   \n",
       "6                                             Methane   \n",
       "7                                             Krypton   \n",
       "8               Not included in above dry atmosphere:   \n",
       "9                                      Water vapor(D)   \n",
       "10  notes: (A) volume fraction is equal to mole fr...   \n",
       "\n",
       "                                                       \\\n",
       "                                              Formula   \n",
       "0                                                  N2   \n",
       "1                                                  O2   \n",
       "2                                                  Ar   \n",
       "3                                                 CO2   \n",
       "4                                                  Ne   \n",
       "5                                                  He   \n",
       "6                                                 CH4   \n",
       "7                                                  Kr   \n",
       "8               Not included in above dry atmosphere:   \n",
       "9                                                 H2O   \n",
       "10  notes: (A) volume fraction is equal to mole fr...   \n",
       "\n",
       "                                            Volume(A)  \\\n",
       "                                           in ppmv(B)   \n",
       "0                                              780840   \n",
       "1                                              209460   \n",
       "2                                                9340   \n",
       "3                                              413.61   \n",
       "4                                               18.18   \n",
       "5                                                5.24   \n",
       "6                                                1.87   \n",
       "7                                                1.14   \n",
       "8               Not included in above dry atmosphere:   \n",
       "9                                         0–30,000(D)   \n",
       "10  notes: (A) volume fraction is equal to mole fr...   \n",
       "\n",
       "                                                       \n",
       "                                                 in %  \n",
       "0                                              78.084  \n",
       "1                                              20.946  \n",
       "2                                              0.9340  \n",
       "3                                            0.041361  \n",
       "4                                            0.001818  \n",
       "5                                            0.000524  \n",
       "6                                            0.000187  \n",
       "7                                            0.000114  \n",
       "8               Not included in above dry atmosphere:  \n",
       "9                                             0–3%(E)  \n",
       "10  notes: (A) volume fraction is equal to mole fr...  "
      ]
     },
     "execution_count": 19,
     "metadata": {},
     "output_type": "execute_result"
    }
   ],
   "source": [
    "pd.read_html(url)[0]"
   ]
  },
  {
   "cell_type": "markdown",
   "metadata": {},
   "source": [
    "A parte de notas sobre a tabela também foi reconhecida pelo Pandas como parte do objeto. Não é interesse nosso essa parte, então vamos retirar. Como essa parte começa a partir do índice 8 do DataFrame (o índice é a primeira coluna), vamos fazer um *slice* com `iloc`:"
   ]
  },
  {
   "cell_type": "code",
   "execution_count": 20,
   "metadata": {
    "execution": {
     "iopub.execute_input": "2020-12-14T20:14:44.727643Z",
     "iopub.status.busy": "2020-12-14T20:14:44.727444Z",
     "iopub.status.idle": "2020-12-14T20:14:45.732345Z",
     "shell.execute_reply": "2020-12-14T20:14:45.731790Z",
     "shell.execute_reply.started": "2020-12-14T20:14:44.727570Z"
    }
   },
   "outputs": [
    {
     "data": {
      "text/html": [
       "<div>\n",
       "<style scoped>\n",
       "    .dataframe tbody tr th:only-of-type {\n",
       "        vertical-align: middle;\n",
       "    }\n",
       "\n",
       "    .dataframe tbody tr th {\n",
       "        vertical-align: top;\n",
       "    }\n",
       "\n",
       "    .dataframe thead tr th {\n",
       "        text-align: left;\n",
       "    }\n",
       "</style>\n",
       "<table border=\"1\" class=\"dataframe\">\n",
       "  <thead>\n",
       "    <tr>\n",
       "      <th></th>\n",
       "      <th colspan=\"2\" halign=\"left\">Gas</th>\n",
       "      <th colspan=\"2\" halign=\"left\">Volume(A)</th>\n",
       "    </tr>\n",
       "    <tr>\n",
       "      <th></th>\n",
       "      <th>Name</th>\n",
       "      <th>Formula</th>\n",
       "      <th>in ppmv(B)</th>\n",
       "      <th>in %</th>\n",
       "    </tr>\n",
       "  </thead>\n",
       "  <tbody>\n",
       "    <tr>\n",
       "      <th>0</th>\n",
       "      <td>Nitrogen</td>\n",
       "      <td>N2</td>\n",
       "      <td>780840</td>\n",
       "      <td>78.084</td>\n",
       "    </tr>\n",
       "    <tr>\n",
       "      <th>1</th>\n",
       "      <td>Oxygen</td>\n",
       "      <td>O2</td>\n",
       "      <td>209460</td>\n",
       "      <td>20.946</td>\n",
       "    </tr>\n",
       "    <tr>\n",
       "      <th>2</th>\n",
       "      <td>Argon</td>\n",
       "      <td>Ar</td>\n",
       "      <td>9340</td>\n",
       "      <td>0.9340</td>\n",
       "    </tr>\n",
       "    <tr>\n",
       "      <th>3</th>\n",
       "      <td>Carbon dioxide(April, 2020)(C)[13]</td>\n",
       "      <td>CO2</td>\n",
       "      <td>413.61</td>\n",
       "      <td>0.041361</td>\n",
       "    </tr>\n",
       "    <tr>\n",
       "      <th>4</th>\n",
       "      <td>Neon</td>\n",
       "      <td>Ne</td>\n",
       "      <td>18.18</td>\n",
       "      <td>0.001818</td>\n",
       "    </tr>\n",
       "    <tr>\n",
       "      <th>5</th>\n",
       "      <td>Helium</td>\n",
       "      <td>He</td>\n",
       "      <td>5.24</td>\n",
       "      <td>0.000524</td>\n",
       "    </tr>\n",
       "    <tr>\n",
       "      <th>6</th>\n",
       "      <td>Methane</td>\n",
       "      <td>CH4</td>\n",
       "      <td>1.87</td>\n",
       "      <td>0.000187</td>\n",
       "    </tr>\n",
       "    <tr>\n",
       "      <th>7</th>\n",
       "      <td>Krypton</td>\n",
       "      <td>Kr</td>\n",
       "      <td>1.14</td>\n",
       "      <td>0.000114</td>\n",
       "    </tr>\n",
       "  </tbody>\n",
       "</table>\n",
       "</div>"
      ],
      "text/plain": [
       "                                  Gas          Volume(A)          \n",
       "                                 Name Formula in ppmv(B)      in %\n",
       "0                            Nitrogen      N2     780840    78.084\n",
       "1                              Oxygen      O2     209460    20.946\n",
       "2                               Argon      Ar       9340    0.9340\n",
       "3  Carbon dioxide(April, 2020)(C)[13]     CO2     413.61  0.041361\n",
       "4                                Neon      Ne      18.18  0.001818\n",
       "5                              Helium      He       5.24  0.000524\n",
       "6                             Methane     CH4       1.87  0.000187\n",
       "7                             Krypton      Kr       1.14  0.000114"
      ]
     },
     "execution_count": 20,
     "metadata": {},
     "output_type": "execute_result"
    }
   ],
   "source": [
    "pd.read_html(url)[0].iloc[:8]"
   ]
  },
  {
   "cell_type": "markdown",
   "metadata": {},
   "source": [
    "Será esse nosso DataFrame, vamos associar a uma variável:"
   ]
  },
  {
   "cell_type": "code",
   "execution_count": 21,
   "metadata": {
    "execution": {
     "iopub.execute_input": "2020-12-14T20:14:45.733308Z",
     "iopub.status.busy": "2020-12-14T20:14:45.733084Z",
     "iopub.status.idle": "2020-12-14T20:14:45.735881Z",
     "shell.execute_reply": "2020-12-14T20:14:45.735305Z",
     "shell.execute_reply.started": "2020-12-14T20:14:45.733280Z"
    }
   },
   "outputs": [],
   "source": [
    "df = _"
   ]
  },
  {
   "cell_type": "markdown",
   "metadata": {},
   "source": [
    "É sempre interessante dar uma olhada em como o Pandas reconheceu os dados. Para isso temos os métodos `info` e `describe`:"
   ]
  },
  {
   "cell_type": "code",
   "execution_count": 22,
   "metadata": {
    "execution": {
     "iopub.execute_input": "2020-12-14T20:14:45.736636Z",
     "iopub.status.busy": "2020-12-14T20:14:45.736448Z",
     "iopub.status.idle": "2020-12-14T20:14:46.238385Z",
     "shell.execute_reply": "2020-12-14T20:14:46.237843Z",
     "shell.execute_reply.started": "2020-12-14T20:14:45.736594Z"
    }
   },
   "outputs": [
    {
     "name": "stdout",
     "output_type": "stream",
     "text": [
      "<class 'pandas.core.frame.DataFrame'>\n",
      "RangeIndex: 8 entries, 0 to 7\n",
      "Data columns (total 4 columns):\n",
      " #   Column                   Non-Null Count  Dtype \n",
      "---  ------                   --------------  ----- \n",
      " 0   (Gas, Name)              8 non-null      object\n",
      " 1   (Gas, Formula)           8 non-null      object\n",
      " 2   (Volume(A), in ppmv(B))  8 non-null      object\n",
      " 3   (Volume(A), in %)        8 non-null      object\n",
      "dtypes: object(4)\n",
      "memory usage: 384.0+ bytes\n"
     ]
    }
   ],
   "source": [
    "df.info()"
   ]
  },
  {
   "cell_type": "code",
   "execution_count": 23,
   "metadata": {
    "execution": {
     "iopub.execute_input": "2020-12-14T20:14:46.240614Z",
     "iopub.status.busy": "2020-12-14T20:14:46.240300Z",
     "iopub.status.idle": "2020-12-14T20:14:46.675249Z",
     "shell.execute_reply": "2020-12-14T20:14:46.674722Z",
     "shell.execute_reply.started": "2020-12-14T20:14:46.240432Z"
    }
   },
   "outputs": [
    {
     "data": {
      "text/html": [
       "<div>\n",
       "<style scoped>\n",
       "    .dataframe tbody tr th:only-of-type {\n",
       "        vertical-align: middle;\n",
       "    }\n",
       "\n",
       "    .dataframe tbody tr th {\n",
       "        vertical-align: top;\n",
       "    }\n",
       "\n",
       "    .dataframe thead tr th {\n",
       "        text-align: left;\n",
       "    }\n",
       "</style>\n",
       "<table border=\"1\" class=\"dataframe\">\n",
       "  <thead>\n",
       "    <tr>\n",
       "      <th></th>\n",
       "      <th colspan=\"2\" halign=\"left\">Gas</th>\n",
       "      <th colspan=\"2\" halign=\"left\">Volume(A)</th>\n",
       "    </tr>\n",
       "    <tr>\n",
       "      <th></th>\n",
       "      <th>Name</th>\n",
       "      <th>Formula</th>\n",
       "      <th>in ppmv(B)</th>\n",
       "      <th>in %</th>\n",
       "    </tr>\n",
       "  </thead>\n",
       "  <tbody>\n",
       "    <tr>\n",
       "      <th>count</th>\n",
       "      <td>8</td>\n",
       "      <td>8</td>\n",
       "      <td>8</td>\n",
       "      <td>8</td>\n",
       "    </tr>\n",
       "    <tr>\n",
       "      <th>unique</th>\n",
       "      <td>8</td>\n",
       "      <td>8</td>\n",
       "      <td>8</td>\n",
       "      <td>8</td>\n",
       "    </tr>\n",
       "    <tr>\n",
       "      <th>top</th>\n",
       "      <td>Nitrogen</td>\n",
       "      <td>Ne</td>\n",
       "      <td>209460</td>\n",
       "      <td>0.041361</td>\n",
       "    </tr>\n",
       "    <tr>\n",
       "      <th>freq</th>\n",
       "      <td>1</td>\n",
       "      <td>1</td>\n",
       "      <td>1</td>\n",
       "      <td>1</td>\n",
       "    </tr>\n",
       "  </tbody>\n",
       "</table>\n",
       "</div>"
      ],
      "text/plain": [
       "             Gas          Volume(A)          \n",
       "            Name Formula in ppmv(B)      in %\n",
       "count          8       8          8         8\n",
       "unique         8       8          8         8\n",
       "top     Nitrogen      Ne     209460  0.041361\n",
       "freq           1       1          1         1"
      ]
     },
     "execution_count": 23,
     "metadata": {},
     "output_type": "execute_result"
    }
   ],
   "source": [
    "df.describe()"
   ]
  },
  {
   "cell_type": "markdown",
   "metadata": {},
   "source": [
    "Observe que o Pandas reconheceu todas as colunas como sendo de tipo `object`. Esse tipo é genérico no Pandas. Usualmente, quando o algoritmo não reconhece exatamente o tipo, enquadra como `object`. Para todos os efeitos, os dados dessas colunas se comportam como strings. Isso fica claro no resultado de `describe` pois, se as colunas com números fosse reconhecidas como tais, apareceriam métricas como média, valor máximo e valor mínimo. Logo, uma das coisas que precisaremos fazer é converter a coluna de volume em porcentagem para o tipo correto, *float*, para que possamos utilizar os valores em nossas contas."
   ]
  },
  {
   "cell_type": "markdown",
   "metadata": {},
   "source": [
    "Outro aspecto que esses métodos nos permitem visualizar de forma mais clara é que há subcolunas ou, numa linguagem mais próxima a usada no contexto de Pandas, há multi-índices. Dentro do índice *Gas* há *Name* e *Formula*, e também há índices dentro de *Volume(A)*. Vamos ver como visualizar os valores da coluna *Formula*:"
   ]
  },
  {
   "cell_type": "code",
   "execution_count": 24,
   "metadata": {
    "execution": {
     "iopub.execute_input": "2020-12-14T20:14:46.676841Z",
     "iopub.status.busy": "2020-12-14T20:14:46.676641Z",
     "iopub.status.idle": "2020-12-14T20:14:47.050774Z",
     "shell.execute_reply": "2020-12-14T20:14:47.050184Z",
     "shell.execute_reply.started": "2020-12-14T20:14:46.676796Z"
    }
   },
   "outputs": [
    {
     "data": {
      "text/plain": [
       "0     N2\n",
       "1     O2\n",
       "2     Ar\n",
       "3    CO2\n",
       "4     Ne\n",
       "5     He\n",
       "6    CH4\n",
       "7     Kr\n",
       "Name: Formula, dtype: object"
      ]
     },
     "execution_count": 24,
     "metadata": {},
     "output_type": "execute_result"
    }
   ],
   "source": [
    "df['Gas']['Formula']"
   ]
  },
  {
   "cell_type": "markdown",
   "metadata": {},
   "source": [
    "Outra forma seria usando a notação do método `loc`:"
   ]
  },
  {
   "cell_type": "code",
   "execution_count": 25,
   "metadata": {
    "execution": {
     "iopub.execute_input": "2020-12-14T20:14:47.051967Z",
     "iopub.status.busy": "2020-12-14T20:14:47.051709Z",
     "iopub.status.idle": "2020-12-14T20:14:47.436340Z",
     "shell.execute_reply": "2020-12-14T20:14:47.435950Z",
     "shell.execute_reply.started": "2020-12-14T20:14:47.051932Z"
    }
   },
   "outputs": [
    {
     "data": {
      "text/plain": [
       "0     N2\n",
       "1     O2\n",
       "2     Ar\n",
       "3    CO2\n",
       "4     Ne\n",
       "5     He\n",
       "6    CH4\n",
       "7     Kr\n",
       "Name: (Gas, Formula), dtype: object"
      ]
     },
     "execution_count": 25,
     "metadata": {},
     "output_type": "execute_result"
    }
   ],
   "source": [
    "df.loc[:, ('Gas', 'Formula')]"
   ]
  },
  {
   "cell_type": "markdown",
   "metadata": {},
   "source": [
    "Podemos ver apenas os dados em *Volume(A)*, que são nossos dados numéricos:"
   ]
  },
  {
   "cell_type": "code",
   "execution_count": 26,
   "metadata": {
    "execution": {
     "iopub.execute_input": "2020-12-14T20:14:47.437104Z",
     "iopub.status.busy": "2020-12-14T20:14:47.436920Z",
     "iopub.status.idle": "2020-12-14T20:14:47.985402Z",
     "shell.execute_reply": "2020-12-14T20:14:47.984232Z",
     "shell.execute_reply.started": "2020-12-14T20:14:47.437042Z"
    }
   },
   "outputs": [
    {
     "data": {
      "text/html": [
       "<div>\n",
       "<style scoped>\n",
       "    .dataframe tbody tr th:only-of-type {\n",
       "        vertical-align: middle;\n",
       "    }\n",
       "\n",
       "    .dataframe tbody tr th {\n",
       "        vertical-align: top;\n",
       "    }\n",
       "\n",
       "    .dataframe thead th {\n",
       "        text-align: right;\n",
       "    }\n",
       "</style>\n",
       "<table border=\"1\" class=\"dataframe\">\n",
       "  <thead>\n",
       "    <tr style=\"text-align: right;\">\n",
       "      <th></th>\n",
       "      <th>in ppmv(B)</th>\n",
       "      <th>in %</th>\n",
       "    </tr>\n",
       "  </thead>\n",
       "  <tbody>\n",
       "    <tr>\n",
       "      <th>0</th>\n",
       "      <td>780840</td>\n",
       "      <td>78.084</td>\n",
       "    </tr>\n",
       "    <tr>\n",
       "      <th>1</th>\n",
       "      <td>209460</td>\n",
       "      <td>20.946</td>\n",
       "    </tr>\n",
       "    <tr>\n",
       "      <th>2</th>\n",
       "      <td>9340</td>\n",
       "      <td>0.9340</td>\n",
       "    </tr>\n",
       "    <tr>\n",
       "      <th>3</th>\n",
       "      <td>413.61</td>\n",
       "      <td>0.041361</td>\n",
       "    </tr>\n",
       "    <tr>\n",
       "      <th>4</th>\n",
       "      <td>18.18</td>\n",
       "      <td>0.001818</td>\n",
       "    </tr>\n",
       "    <tr>\n",
       "      <th>5</th>\n",
       "      <td>5.24</td>\n",
       "      <td>0.000524</td>\n",
       "    </tr>\n",
       "    <tr>\n",
       "      <th>6</th>\n",
       "      <td>1.87</td>\n",
       "      <td>0.000187</td>\n",
       "    </tr>\n",
       "    <tr>\n",
       "      <th>7</th>\n",
       "      <td>1.14</td>\n",
       "      <td>0.000114</td>\n",
       "    </tr>\n",
       "  </tbody>\n",
       "</table>\n",
       "</div>"
      ],
      "text/plain": [
       "  in ppmv(B)      in %\n",
       "0     780840    78.084\n",
       "1     209460    20.946\n",
       "2       9340    0.9340\n",
       "3     413.61  0.041361\n",
       "4      18.18  0.001818\n",
       "5       5.24  0.000524\n",
       "6       1.87  0.000187\n",
       "7       1.14  0.000114"
      ]
     },
     "execution_count": 26,
     "metadata": {},
     "output_type": "execute_result"
    }
   ],
   "source": [
    "df['Volume(A)']"
   ]
  },
  {
   "cell_type": "markdown",
   "metadata": {},
   "source": [
    "Agora vamos converter esses dados para o tipo `float`:"
   ]
  },
  {
   "cell_type": "code",
   "execution_count": 27,
   "metadata": {
    "execution": {
     "iopub.execute_input": "2020-12-14T20:14:47.986277Z",
     "iopub.status.busy": "2020-12-14T20:14:47.986125Z",
     "iopub.status.idle": "2020-12-14T20:14:48.434815Z",
     "shell.execute_reply": "2020-12-14T20:14:48.434350Z",
     "shell.execute_reply.started": "2020-12-14T20:14:47.986249Z"
    }
   },
   "outputs": [],
   "source": [
    "df['Volume(A)'] = df['Volume(A)'].astype(float)"
   ]
  },
  {
   "cell_type": "code",
   "execution_count": 28,
   "metadata": {
    "execution": {
     "iopub.execute_input": "2020-12-14T20:14:48.435812Z",
     "iopub.status.busy": "2020-12-14T20:14:48.435613Z",
     "iopub.status.idle": "2020-12-14T20:14:48.740571Z",
     "shell.execute_reply": "2020-12-14T20:14:48.738128Z",
     "shell.execute_reply.started": "2020-12-14T20:14:48.435774Z"
    }
   },
   "outputs": [
    {
     "data": {
      "text/html": [
       "<div>\n",
       "<style scoped>\n",
       "    .dataframe tbody tr th:only-of-type {\n",
       "        vertical-align: middle;\n",
       "    }\n",
       "\n",
       "    .dataframe tbody tr th {\n",
       "        vertical-align: top;\n",
       "    }\n",
       "\n",
       "    .dataframe thead tr th {\n",
       "        text-align: left;\n",
       "    }\n",
       "</style>\n",
       "<table border=\"1\" class=\"dataframe\">\n",
       "  <thead>\n",
       "    <tr>\n",
       "      <th></th>\n",
       "      <th colspan=\"2\" halign=\"left\">Gas</th>\n",
       "      <th colspan=\"2\" halign=\"left\">Volume(A)</th>\n",
       "    </tr>\n",
       "    <tr>\n",
       "      <th></th>\n",
       "      <th>Name</th>\n",
       "      <th>Formula</th>\n",
       "      <th>in ppmv(B)</th>\n",
       "      <th>in %</th>\n",
       "    </tr>\n",
       "  </thead>\n",
       "  <tbody>\n",
       "    <tr>\n",
       "      <th>0</th>\n",
       "      <td>Nitrogen</td>\n",
       "      <td>N2</td>\n",
       "      <td>780840.00</td>\n",
       "      <td>78.084000</td>\n",
       "    </tr>\n",
       "    <tr>\n",
       "      <th>1</th>\n",
       "      <td>Oxygen</td>\n",
       "      <td>O2</td>\n",
       "      <td>209460.00</td>\n",
       "      <td>20.946000</td>\n",
       "    </tr>\n",
       "    <tr>\n",
       "      <th>2</th>\n",
       "      <td>Argon</td>\n",
       "      <td>Ar</td>\n",
       "      <td>9340.00</td>\n",
       "      <td>0.934000</td>\n",
       "    </tr>\n",
       "    <tr>\n",
       "      <th>3</th>\n",
       "      <td>Carbon dioxide(April, 2020)(C)[13]</td>\n",
       "      <td>CO2</td>\n",
       "      <td>413.61</td>\n",
       "      <td>0.041361</td>\n",
       "    </tr>\n",
       "    <tr>\n",
       "      <th>4</th>\n",
       "      <td>Neon</td>\n",
       "      <td>Ne</td>\n",
       "      <td>18.18</td>\n",
       "      <td>0.001818</td>\n",
       "    </tr>\n",
       "    <tr>\n",
       "      <th>5</th>\n",
       "      <td>Helium</td>\n",
       "      <td>He</td>\n",
       "      <td>5.24</td>\n",
       "      <td>0.000524</td>\n",
       "    </tr>\n",
       "    <tr>\n",
       "      <th>6</th>\n",
       "      <td>Methane</td>\n",
       "      <td>CH4</td>\n",
       "      <td>1.87</td>\n",
       "      <td>0.000187</td>\n",
       "    </tr>\n",
       "    <tr>\n",
       "      <th>7</th>\n",
       "      <td>Krypton</td>\n",
       "      <td>Kr</td>\n",
       "      <td>1.14</td>\n",
       "      <td>0.000114</td>\n",
       "    </tr>\n",
       "  </tbody>\n",
       "</table>\n",
       "</div>"
      ],
      "text/plain": [
       "                                  Gas          Volume(A)           \n",
       "                                 Name Formula in ppmv(B)       in %\n",
       "0                            Nitrogen      N2  780840.00  78.084000\n",
       "1                              Oxygen      O2  209460.00  20.946000\n",
       "2                               Argon      Ar    9340.00   0.934000\n",
       "3  Carbon dioxide(April, 2020)(C)[13]     CO2     413.61   0.041361\n",
       "4                                Neon      Ne      18.18   0.001818\n",
       "5                              Helium      He       5.24   0.000524\n",
       "6                             Methane     CH4       1.87   0.000187\n",
       "7                             Krypton      Kr       1.14   0.000114"
      ]
     },
     "execution_count": 28,
     "metadata": {},
     "output_type": "execute_result"
    }
   ],
   "source": [
    "df"
   ]
  },
  {
   "cell_type": "markdown",
   "metadata": {},
   "source": [
    "Vamos agora nos preparar para criar uma coluna para a densidade de cada gás listado na subcoluna *Formula*. Vamos ver como seria o resultado de aplicar a função `densidade_gas` em cada fórmula usando a função `map` do Python:"
   ]
  },
  {
   "cell_type": "code",
   "execution_count": 29,
   "metadata": {
    "execution": {
     "iopub.execute_input": "2020-12-14T20:14:48.744723Z",
     "iopub.status.busy": "2020-12-14T20:14:48.743855Z",
     "iopub.status.idle": "2020-12-14T20:14:49.081099Z",
     "shell.execute_reply": "2020-12-14T20:14:49.079090Z",
     "shell.execute_reply.started": "2020-12-14T20:14:48.744575Z"
    }
   },
   "outputs": [
    {
     "data": {
      "text/plain": [
       "[1.145045483304565 <Unit('kilogram / meter ** 3')>,\n",
       " 1.3078876766894934 <Unit('kilogram / meter ** 3')>,\n",
       " 1.6328363306579126 <Unit('kilogram / meter ** 3')>,\n",
       " 1.7988258254712144 <Unit('kilogram / meter ** 3')>,\n",
       " 0.8248259562876108 <Unit('kilogram / meter ** 3')>,\n",
       " 0.1636025323611701 <Unit('kilogram / meter ** 3')>,\n",
       " 0.6557422963038172 <Unit('kilogram / meter ** 3')>,\n",
       " 3.4251631830497584 <Unit('kilogram / meter ** 3')>]"
      ]
     },
     "execution_count": 29,
     "metadata": {},
     "output_type": "execute_result"
    }
   ],
   "source": [
    "list(map(densidade_gas, df['Gas']['Formula']))"
   ]
  },
  {
   "cell_type": "markdown",
   "metadata": {},
   "source": [
    "Observe que as unidades aparecem, já que nossa função utiliza o `pint`. Seria interessante ter apenas o valor numérico, usando o atributo `magnitude` de uma quantidade do `pint`, já que não faz sentido aparecer unidade em todas as linhas de uma tabela. Além de também facilitar nossa vida em cálculos futuros ter apenas números. Podemos criar uma função anônima para isso e aplicá-la com `map` no resultado anterior:"
   ]
  },
  {
   "cell_type": "code",
   "execution_count": 30,
   "metadata": {
    "execution": {
     "iopub.execute_input": "2020-12-14T20:14:49.084449Z",
     "iopub.status.busy": "2020-12-14T20:14:49.083629Z",
     "iopub.status.idle": "2020-12-14T20:14:49.365766Z",
     "shell.execute_reply": "2020-12-14T20:14:49.363645Z",
     "shell.execute_reply.started": "2020-12-14T20:14:49.084088Z"
    }
   },
   "outputs": [
    {
     "data": {
      "text/plain": [
       "[1.145045483304565,\n",
       " 1.3078876766894934,\n",
       " 1.6328363306579126,\n",
       " 1.7988258254712144,\n",
       " 0.8248259562876108,\n",
       " 0.1636025323611701,\n",
       " 0.6557422963038172,\n",
       " 3.4251631830497584]"
      ]
     },
     "execution_count": 30,
     "metadata": {},
     "output_type": "execute_result"
    }
   ],
   "source": [
    "list( map(lambda quantidade: quantidade.magnitude, map(densidade_gas, df['Gas']['Formula'])) )"
   ]
  },
  {
   "cell_type": "markdown",
   "metadata": {},
   "source": [
    "Vamos armazenar o resultado anterior em uma coluna de nosso DataFrame:"
   ]
  },
  {
   "cell_type": "code",
   "execution_count": 31,
   "metadata": {
    "execution": {
     "iopub.execute_input": "2020-12-14T20:14:49.369473Z",
     "iopub.status.busy": "2020-12-14T20:14:49.368481Z",
     "iopub.status.idle": "2020-12-14T20:14:49.698548Z",
     "shell.execute_reply": "2020-12-14T20:14:49.696467Z",
     "shell.execute_reply.started": "2020-12-14T20:14:49.368967Z"
    }
   },
   "outputs": [],
   "source": [
    "df['density'] = _"
   ]
  },
  {
   "cell_type": "code",
   "execution_count": 32,
   "metadata": {
    "execution": {
     "iopub.execute_input": "2020-12-14T20:14:49.702405Z",
     "iopub.status.busy": "2020-12-14T20:14:49.701535Z",
     "iopub.status.idle": "2020-12-14T20:14:49.991388Z",
     "shell.execute_reply": "2020-12-14T20:14:49.988901Z",
     "shell.execute_reply.started": "2020-12-14T20:14:49.702239Z"
    }
   },
   "outputs": [
    {
     "data": {
      "text/plain": [
       "0    1.145045\n",
       "1    1.307888\n",
       "2    1.632836\n",
       "3    1.798826\n",
       "4    0.824826\n",
       "5    0.163603\n",
       "6    0.655742\n",
       "7    3.425163\n",
       "Name: density, dtype: float64"
      ]
     },
     "execution_count": 32,
     "metadata": {},
     "output_type": "execute_result"
    }
   ],
   "source": [
    "df['density']"
   ]
  },
  {
   "cell_type": "markdown",
   "metadata": {},
   "source": [
    "Relembrando nossas premissas, esses valores são a densidade de cada gás separadamente considerando um modelo de gás ideal, a pressão de 1 atm e a temperatura de 25 °C."
   ]
  },
  {
   "cell_type": "markdown",
   "metadata": {},
   "source": [
    "## Densidade e massa molar média do ar"
   ]
  },
  {
   "cell_type": "markdown",
   "metadata": {},
   "source": [
    "Conforme explicado no link da Wikipedia de onde tiramos a tabela, os valores de porcentagem apresentados consideram ar seco, já que o teor de umidade varia muito mesmo em uma dada localidade. Assim, quando falamos de densidade do ar usualmente estamos nos referindo a densidade do ar seco. Essa densidade nada mais é que a média ponderada das densidades de cada constituinte do ar. Os pesoas são as porcentagens de cada constituinte. Assim:"
   ]
  },
  {
   "cell_type": "code",
   "execution_count": 33,
   "metadata": {
    "execution": {
     "iopub.execute_input": "2020-12-14T20:14:49.995449Z",
     "iopub.status.busy": "2020-12-14T20:14:49.994560Z",
     "iopub.status.idle": "2020-12-14T20:14:50.287256Z",
     "shell.execute_reply": "2020-12-14T20:14:50.285290Z",
     "shell.execute_reply.started": "2020-12-14T20:14:49.995292Z"
    }
   },
   "outputs": [],
   "source": [
    "densidade_ar_seco = sum([densidade_gas * porcentagem_gas for densidade_gas, porcentagem_gas in \n",
    "                         zip(df['density'], df['Volume(A)']['in %'])]) / sum(df['Volume(A)']['in %'])"
   ]
  },
  {
   "cell_type": "code",
   "execution_count": 34,
   "metadata": {
    "execution": {
     "iopub.execute_input": "2020-12-14T20:14:50.291258Z",
     "iopub.status.busy": "2020-12-14T20:14:50.290350Z",
     "iopub.status.idle": "2020-12-14T20:14:50.565152Z",
     "shell.execute_reply": "2020-12-14T20:14:50.563205Z",
     "shell.execute_reply.started": "2020-12-14T20:14:50.291082Z"
    }
   },
   "outputs": [
    {
     "data": {
      "text/plain": [
       "1.1839683903282519"
      ]
     },
     "execution_count": 34,
     "metadata": {},
     "output_type": "execute_result"
    }
   ],
   "source": [
    "densidade_ar_seco"
   ]
  },
  {
   "cell_type": "markdown",
   "metadata": {},
   "source": [
    "Esse é o valor calculado da densidade do ar seco. Considerando o número de significativos dos dados apresentados e colocando a devida unidade, é mais adequado representar o resultado como:"
   ]
  },
  {
   "cell_type": "code",
   "execution_count": 35,
   "metadata": {
    "execution": {
     "iopub.execute_input": "2020-12-14T20:14:50.568712Z",
     "iopub.status.busy": "2020-12-14T20:14:50.567924Z",
     "iopub.status.idle": "2020-12-14T20:14:50.838901Z",
     "shell.execute_reply": "2020-12-14T20:14:50.836533Z",
     "shell.execute_reply.started": "2020-12-14T20:14:50.568585Z"
    }
   },
   "outputs": [
    {
     "name": "stdout",
     "output_type": "stream",
     "text": [
      "1.2 kg/m³\n"
     ]
    }
   ],
   "source": [
    "print(f\"{Q_(densidade_ar_seco, 'kg/m^3'):.2~P}\")"
   ]
  },
  {
   "cell_type": "markdown",
   "metadata": {},
   "source": [
    "Seguindo a mesma linha de raciocínio, podemos calcular a massa molar média:"
   ]
  },
  {
   "cell_type": "code",
   "execution_count": 36,
   "metadata": {
    "execution": {
     "iopub.execute_input": "2020-12-14T20:14:50.841074Z",
     "iopub.status.busy": "2020-12-14T20:14:50.840901Z",
     "iopub.status.idle": "2020-12-14T20:14:51.162159Z",
     "shell.execute_reply": "2020-12-14T20:14:51.160103Z",
     "shell.execute_reply.started": "2020-12-14T20:14:50.841044Z"
    }
   },
   "outputs": [
    {
     "name": "stdout",
     "output_type": "stream",
     "text": [
      "28.97 g/mol\n"
     ]
    }
   ],
   "source": [
    "df['molar mass'] = [chempy.Substance.from_formula(formula).mass for formula in df['Gas']['Formula']]\n",
    "\n",
    "massa_molar_media_ar_seco = sum([massa_molar_gas * porcentagem_gas for massa_molar_gas, porcentagem_gas in zip(df['molar mass'], df['Volume(A)']['in %'])]) / sum(df['Volume(A)']['in %'])\n",
    "\n",
    "print(f\"{Q_(massa_molar_media_ar_seco, 'g/mol'):.4~P}\")"
   ]
  },
  {
   "cell_type": "markdown",
   "metadata": {},
   "source": [
    "## Gráficos! Eu quero imagens"
   ]
  },
  {
   "cell_type": "markdown",
   "metadata": {},
   "source": [
    "Agora vamos usar todo o poder do Matplotlib para criar gráficos que facilitem a visualização da nossa análise e mesmo expanda ainda mais nossa compreensão.\n",
    "\n",
    "O Pandas possui um método `plot` que é construído em cima do `plot` do Matplotlib. Podemos, por exemplo, criar facilmente um gráfico de barras com as densidades de cada gás do nosso DataFrame:"
   ]
  },
  {
   "cell_type": "code",
   "execution_count": 37,
   "metadata": {
    "execution": {
     "iopub.execute_input": "2020-12-14T20:14:51.165283Z",
     "iopub.status.busy": "2020-12-14T20:14:51.164659Z",
     "iopub.status.idle": "2020-12-14T20:14:51.612793Z",
     "shell.execute_reply": "2020-12-14T20:14:51.612332Z",
     "shell.execute_reply.started": "2020-12-14T20:14:51.165167Z"
    }
   },
   "outputs": [
    {
     "data": {
      "text/plain": [
       "<matplotlib.axes._subplots.AxesSubplot at 0x7fed70f07b50>"
      ]
     },
     "execution_count": 37,
     "metadata": {},
     "output_type": "execute_result"
    },
    {
     "data": {
      "image/png": "[encoded data removed]",
      "text/plain": [
       "<Figure size 432x288 with 1 Axes>"
      ]
     },
     "metadata": {
      "needs_background": "light"
     },
     "output_type": "display_data"
    }
   ],
   "source": [
    "df.plot.bar(x=('Gas', 'Formula'), y='density')"
   ]
  },
  {
   "cell_type": "markdown",
   "metadata": {},
   "source": [
    "As configurações padrão do Matplotlib são boas, mas há muito o que melhorar nesse gráfico. Afinal, falta mostrar a unidade no eixo vertical, títulos melhores nos eixos e os números nas fórmulas químicas deveriam estar em subscrito. Vamos resolver essas questões."
   ]
  },
  {
   "cell_type": "markdown",
   "metadata": {},
   "source": [
    "Para as fórmulas químicas, podemos criar uma função que, com auxílio de expressões regulares, retorna o código LaTeX necessário para apresentar as fórmulas corretamente. Isso porque o Matplotlib interage muito bem com LaTeX, o que é ótimo para nós da área de ciência que utilizamos muito em nossos trabalhos."
   ]
  },
  {
   "cell_type": "code",
   "execution_count": 38,
   "metadata": {
    "execution": {
     "iopub.execute_input": "2020-12-14T20:14:51.613922Z",
     "iopub.status.busy": "2020-12-14T20:14:51.613616Z",
     "iopub.status.idle": "2020-12-14T20:14:51.674461Z",
     "shell.execute_reply": "2020-12-14T20:14:51.673930Z",
     "shell.execute_reply.started": "2020-12-14T20:14:51.613790Z"
    }
   },
   "outputs": [],
   "source": [
    "import re\n",
    "\n",
    "def format_formula(formula):\n",
    "        \"\"\" Retorna código LaTeX para apresentar fórmulas químicas corretamente\"\"\"\n",
    "        \n",
    "        label_formula = re.sub(\"([0-9])\", r\"_\\1\", formula)\n",
    "        \n",
    "        return ''.join(['$\\mathregular{', label_formula, '}$'])"
   ]
  },
  {
   "cell_type": "markdown",
   "metadata": {},
   "source": [
    "Basicamente a função acrescenta antes de qualquer dígito um `_` de forma que o código LaTeX passa a reconhecer o dígito como subscrito. Para entender mais sobre expressões regulares [leia esse excelente artigo aqui do site](https://cienciaprogramada.com.br/2020/09/regex-expressoes-regulares-python/)."
   ]
  },
  {
   "cell_type": "markdown",
   "metadata": {},
   "source": [
    "O esquema de cores padrão do Matplotlib é bom e apresentável, mas particularmente gosto bastante de gráficos com fundo escuro. Assim, vou usar um dos [estilos prontos](https://matplotlib.org/3.1.0/gallery/style_sheets/style_sheets_reference.html) que há na biblioteca:"
   ]
  },
  {
   "cell_type": "code",
   "execution_count": 39,
   "metadata": {
    "execution": {
     "iopub.execute_input": "2020-12-14T20:14:51.675390Z",
     "iopub.status.busy": "2020-12-14T20:14:51.675145Z",
     "iopub.status.idle": "2020-12-14T20:14:52.070555Z",
     "shell.execute_reply": "2020-12-14T20:14:52.069778Z",
     "shell.execute_reply.started": "2020-12-14T20:14:51.675309Z"
    }
   },
   "outputs": [],
   "source": [
    "plt.style.use('dark_background')"
   ]
  },
  {
   "cell_type": "markdown",
   "metadata": {},
   "source": [
    "Agora vamos criar uma figura, associar a ela um sistema de eixos e colocar as informações que queríamos de unidade, nomes nos eixos, fórmulas químicas corretas e, para aproveitar, uma linha indicando a densidade do ar seco que calculamos anteriormente:"
   ]
  },
  {
   "cell_type": "code",
   "execution_count": 40,
   "metadata": {
    "execution": {
     "iopub.execute_input": "2020-12-14T20:14:52.072169Z",
     "iopub.status.busy": "2020-12-14T20:14:52.071844Z",
     "iopub.status.idle": "2020-12-14T20:14:52.714857Z",
     "shell.execute_reply": "2020-12-14T20:14:52.714304Z",
     "shell.execute_reply.started": "2020-12-14T20:14:52.072108Z"
    }
   },
   "outputs": [
    {
     "data": {
      "image/png": "[encoded data removed]",
      "text/plain": [
       "<Figure size 576x432 with 1 Axes>"
      ]
     },
     "metadata": {},
     "output_type": "display_data"
    }
   ],
   "source": [
    "fig, ax = plt.subplots(nrows=1, ncols=1, figsize=(8,6), constrained_layout=True)\n",
    "\n",
    "# Dados\n",
    "ax.bar(df['Gas']['Formula'], df['density'], color='blue', label='Densidade do gás')\n",
    "ax.axhline(densidade_ar_seco, color='red', label='Densidade do ar seco')\n",
    "\n",
    "# Fórmulas químicas certas\n",
    "ax.set_xticklabels(list(map(format_formula, df['Gas']['Formula'])))\n",
    "\n",
    "# Identificação\n",
    "ax.set_xlabel('Composto', size=14)\n",
    "ax.set_ylabel('Densidade / kg/m³', size=14)\n",
    "ax.set_title('Densidade dos gases componentes do ar seco - 1 atm e 25 °C', size=16)\n",
    "ax.legend(fontsize=12)\n",
    "\n",
    "# Ajuste da fonte das escalas\n",
    "ax.tick_params(labelsize=14)\n",
    "\n",
    "plt.show()"
   ]
  },
  {
   "cell_type": "markdown",
   "metadata": {},
   "source": [
    "Esse gráfico é interessante, mas ele não apresenta ao leitor informações o suficiente para que ele entenda porque a densidade do ar seco é muito mais próxima daquela do gás nitrogênio do que do gás criptônio. Obviamente que os mais atentos deduzirão que isso provavelmente ocorre por ter muito pouco criptônio na atmosfera, mas seria útil esse dado estar explícito no gráfico.\n",
    "\n",
    "Além disso, se o público for mais acadêmico como, por exemplo, em uma aula, poderia estar no gráfico também alguma indicação de que a densidade de um dado gás é proporcional à sua massa molar. Assim, mais discussões poderiam ser feitas sobre modelos de gases e mesmo sobre outras consequências a depender do objetivo do instrutor."
   ]
  },
  {
   "cell_type": "markdown",
   "metadata": {},
   "source": [
    "Então, agora vamos fazer um gráfico mais ousado para terminar com chave de ouro esse artigo. Podemos criar uma escala de intensidade de cores para indicar a concentração de gás na atmosfera. Por exemplo, uma cor amarela fraca indicaria baixa concentração e uma vermelho forte, alta concentração. Um gráfico de barras nos limita um pouco, vamos mudar para um gráfico de pontos do tipo *scatter* (dispersão em português). Nesse tipo de gráfico, o tamanho do ponto, ou melhor círculo, pode ser associado a uma quantidade. Assim, vamos associar ao valor da massa molar para termos a informação adicional que desejamos."
   ]
  },
  {
   "cell_type": "markdown",
   "metadata": {},
   "source": [
    "Para a criação da escala de cores, precisaremos de dois métodos do Matplotlib que ainda não importamos:"
   ]
  },
  {
   "cell_type": "code",
   "execution_count": 41,
   "metadata": {
    "execution": {
     "iopub.execute_input": "2020-12-14T20:14:52.716081Z",
     "iopub.status.busy": "2020-12-14T20:14:52.715772Z",
     "iopub.status.idle": "2020-12-14T20:14:52.719150Z",
     "shell.execute_reply": "2020-12-14T20:14:52.718424Z",
     "shell.execute_reply.started": "2020-12-14T20:14:52.716008Z"
    }
   },
   "outputs": [],
   "source": [
    "import matplotlib.colors as mcolors\n",
    "import matplotlib.cm as cm"
   ]
  },
  {
   "cell_type": "markdown",
   "metadata": {},
   "source": [
    "Vamos, então, criar uma figura com sistema de eixos e fazer os ajustes necessários no nosso gráfico. Usaremos o mapa de cores `YlOrRd` do Matplotlib e normalizaremos as cores com base nos valores de porcentagem em volume. Assim, o gás que tiver a menor porcentagem terá a cor amarela mais clara e o que tiver a maior, cor vermelha escura. Com esses dados, utilizaremos métodos do Matplotlib para construir uma escala de cores. Usando o `chempy`, obteremos a massa molar de cada fórmula no DataFrame e associaremos os valores a área de cada círculo. O código a seguir faz todas essas etapas. Recomendo que rode o código em sua máquina e interaja com ele, modificando cada parte e vendo seus efeitos. Dá para aprender muita coisa de Matplotlib aqui."
   ]
  },
  {
   "cell_type": "code",
   "execution_count": 42,
   "metadata": {
    "execution": {
     "iopub.execute_input": "2020-12-14T20:14:52.720474Z",
     "iopub.status.busy": "2020-12-14T20:14:52.720205Z",
     "iopub.status.idle": "2020-12-14T20:14:53.353206Z",
     "shell.execute_reply": "2020-12-14T20:14:53.352628Z",
     "shell.execute_reply.started": "2020-12-14T20:14:52.720436Z"
    }
   },
   "outputs": [
    {
     "data": {
      "image/png": "[encoded data removed]",
      "text/plain": [
       "<Figure size 720x432 with 2 Axes>"
      ]
     },
     "metadata": {},
     "output_type": "display_data"
    }
   ],
   "source": [
    "fig, ax = plt.subplots(nrows=1, ncols=1, figsize=(10,6), constrained_layout=True)\n",
    "\n",
    "# tamanho dos círculos com base na massa molar\n",
    "raio_base = 15  # mude para ter círculos menores ou maiores\n",
    "area_circulos = [chempy.Substance.from_formula(i).mass * raio_base for i in df['Gas']['Formula']]\n",
    "\n",
    "# cores dos círculos com base nos valores de porcentagem em volume\n",
    "cores_circulos = df['Volume(A)']['in %']\n",
    "normalize = mcolors.Normalize(vmin=min(cores_circulos), vmax=max(cores_circulos))\n",
    "colormap = cm.YlOrRd\n",
    "\n",
    "# dados\n",
    "sc = ax.scatter(df['Gas']['Formula'], df['density'], label='Densidade do gás - Círculo proporcional à massa molar', \n",
    "                s=area_circulos, c=cores_circulos, cmap=colormap)\n",
    "ax.axhline(densidade_ar_seco, color='red', label='Densidade do ar seco')\n",
    "\n",
    "# escala de cores\n",
    "scalarmappaple = cm.ScalarMappable(norm=normalize, cmap=colormap)\n",
    "scalarmappaple.set_array(cores_circulos)\n",
    "colorbar = fig.colorbar(scalarmappaple)\n",
    "\n",
    "# Identificação\n",
    "ax.set_xticklabels(list(map(format_formula, df['Gas']['Formula'])))\n",
    "legenda = ax.legend(scatterpoints=3, fontsize=12)\n",
    "legenda.legendHandles[1]._sizes = [30]\n",
    "ax.set_xlabel('Composto', size=18)\n",
    "ax.set_ylabel('Densidade / kg/m³', size=18)\n",
    "colorbar.ax.set_ylabel('Composição do ar seco, em % de volume', rotation=270, labelpad=20, size=15)\n",
    "fig.suptitle('Densidade dos gases componentes do ar seco - 1 atm e 25 °C', size=20)\n",
    "\n",
    "# Ajuste da fonte das escalas\n",
    "colorbar.ax.tick_params(labelsize=14)\n",
    "ax.tick_params(labelsize=14)\n",
    "\n",
    "plt.show()"
   ]
  },
  {
   "cell_type": "markdown",
   "metadata": {},
   "source": [
    "Agora temos um gráfico muito rico em informações: densidade de cada gás isoladamente, densidade do ar seco, relação da densidade com a massa molar e composição percentual do ar. Tudo isso em apenas duas dimensões, o que é excelente para visualização estática. Gráficos em três dimensões são ótimos quando a pessoa pode interagir, rodando o mesmo, dando zoom. Mas em um material impresso ou online mas estático, pode ser um pouco confuso. Logo, colocar mais informações mantendo um gráfico bidimensional é uma melhor escolha."
   ]
  },
  {
   "cell_type": "markdown",
   "metadata": {},
   "source": [
    "## Conclusão. E um pedido..."
   ]
  },
  {
   "cell_type": "markdown",
   "metadata": {},
   "source": [
    "E aí curtiu? Vamos fazer uma pequena lista de ferramentas que utilizamos aqui:\n",
    "\n",
    "- Pint\n",
    "- Chempy\n",
    "- SciPy\n",
    "- Pandas\n",
    "- Web scraping com Pandas\n",
    "- Expressões regulares\n",
    "- Matplotlib\n",
    "    - estilos prontos\n",
    "    - escala de cores\n",
    "    - scatter plot\n",
    "    - personalização avançada de gráficos\n",
    "- Python padrão\n",
    "    - map\n",
    "    - funções anônimas (lambda)\n",
    "    - list comprehensions\n",
    "    \n",
    "Se você acha que esse artigo te ajudou, deixe um comentário e compartilhe em suas redes sociais. Isso ajuda muito esse projeto que está apenas começando a ser mais conhecido. É um pedido simples, mas que ajuda muito.\n",
    "\n",
    "\n",
    "Por fim, caso tenha interesse em estudar mais nossa atmosfera, fica a dica do excelente livro [Introdução à Química da Atmosfera](https://amzn.to/3oRNPVK):\n",
    "\n",
    "<a href=\"https://www.amazon.com.br/Introdu%C3%A7%C3%A3o-Qu%C3%ADmica-Atmosfera-Ci%C3%AAncia-Vida-Sobreviv%C3%AAncia/dp/8521634846/ref=as_li_ss_il?__mk_pt_BR=%C3%85M%C3%85%C5%BD%C3%95%C3%91&dchild=1&keywords=quimica+atmosfera&qid=1607965937&sr=8-1&linkCode=li3&tag=cienciaprogra-20&linkId=f694de05ca970f38a6302ec14c44cca4&language=pt_BR\" target=\"_blank\"><img border=\"0\" src=\"//ws-na.amazon-adsystem.com/widgets/q?_encoding=UTF8&ASIN=8521634846&Format=_SL250_&ID=AsinImage&MarketPlace=BR&ServiceVersion=20070822&WS=1&tag=cienciaprogra-20&language=pt_BR\" ></a><img src=\"https://ir-br.amazon-adsystem.com/e/ir?t=cienciaprogra-20&language=pt_BR&l=li3&o=33&a=8521634846\" width=\"1\" height=\"1\" border=\"0\" alt=\"\" style=\"border:none !important; margin:0px !important;\" />\n",
    "\n",
    "Recentemente lançado em sua segunda edição, possui uma linguagem rigorosa, mas acessível, sendo uma grande fonte de informações a respeito de nossa atmosfera.\n",
    "\n",
    "Até a próxima!"
   ]
  }
 ],
 "metadata": {
  "kernelspec": {
   "display_name": "Python [conda env:chempy]",
   "language": "python",
   "name": "conda-env-chempy-py"
  },
  "language_info": {
   "codemirror_mode": {
    "name": "ipython",
    "version": 3
   },
   "file_extension": ".py",
   "mimetype": "text/x-python",
   "name": "python",
   "nbconvert_exporter": "python",
   "pygments_lexer": "ipython3",
   "version": "3.7.9"
  }
 },
 "nbformat": 4,
 "nbformat_minor": 4
}
